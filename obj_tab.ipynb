{
 "cells": [
  {
   "cell_type": "code",
   "execution_count": null,
   "metadata": {},
   "outputs": [],
   "source": [
    "import numpy as np\n",
    "import pandas as pd\n",
    "from tqdm import tqdm\n",
    "# https://www.404bugs.com/details/1079375428891496448"
   ]
  },
  {
   "cell_type": "code",
   "execution_count": null,
   "metadata": {},
   "outputs": [],
   "source": [
    "detect_results = pd.read_json('./detect_results.json')\n",
    "# person_list = ['person']\n",
    "# non_engine_list = ['bicycle', 'motorbike']\n",
    "# engine_list = ['car', 'bus', 'truck']\n",
    "# sign_list = ['traffic light', 'stop sign']\n",
    "car_list = ['car', 'bus', 'truck', 'car', 'bus', 'truck']"
   ]
  },
  {
   "cell_type": "code",
   "execution_count": null,
   "metadata": {},
   "outputs": [],
   "source": [
    "temp_header = ['prob', 'pos1', 'pos2', 'pos3', 'pos4']\n",
    "temp_cal = pd.DataFrame(columns=temp_header)"
   ]
  },
  {
   "cell_type": "code",
   "execution_count": null,
   "metadata": {},
   "outputs": [],
   "source": [
    "map_id_list=[]\n",
    "obj_num_list = []\n",
    "car_num_list = []\n",
    "pos_min_list = []\n",
    "pos_mean_list = []\n",
    "pos_std_list = []\n",
    "\n",
    "for i, frames in enumerate(detect_results['frames']):\n",
    "    map_id = i+1\n",
    "    for item in frames:\n",
    "        temp_car = np.array([_[\"box_points\"] for _ in item if _[\"name\"] in car_list])\n",
    "        if not temp_car.shape[0]:\n",
    "            temp_car = np.zeros(shape=(1, 4))\n",
    "\n",
    "        map_id_list.append(map_id)\n",
    "        obj_num_list.append(len(item))\n",
    "        car_num_list.append(temp_car.shape[0])\n",
    "        temp_x = temp_car[:, 0:2:].mean(axis=1)\n",
    "        temp_y = temp_car[:, 1:2:].mean(axis=1)\n",
    "        pos_min_list.append([temp_x.min(), temp_y.min()])\n",
    "        pos_mean_list.append([temp_x.mean(), temp_y.mean()])\n",
    "        pos_std_list.append([temp_x.std(), temp_y.std()])"
   ]
  },
  {
   "cell_type": "code",
   "execution_count": null,
   "metadata": {},
   "outputs": [],
   "source": [
    "train_df1 = pd.DataFrame({'map_id':map_id_list,\n",
    "                          'obj_num':obj_num_list,\n",
    "                          'car_num':car_num_list,\n",
    "                          })"
   ]
  },
  {
   "cell_type": "code",
   "execution_count": null,
   "metadata": {},
   "outputs": [],
   "source": [
    "np.array(pos_min_list) "
   ]
  },
  {
   "cell_type": "code",
   "execution_count": null,
   "metadata": {},
   "outputs": [],
   "source": [
    "train_df1['posx'] = np.array(pos_mean_list)[:, 0]\n",
    "train_df1['posy'] = np.array(pos_mean_list)[:, 1]\n",
    "train_df1['posx_min'] = np.array(pos_min_list)[:, 0]\n",
    "train_df1['posy_min'] = np.array(pos_min_list)[:, 1]\n",
    "train_df1['posx_std'] = np.array(pos_std_list)[:, 0]\n",
    "train_df1['posy_std'] = np.array(pos_std_list)[:, 1]"
   ]
  },
  {
   "cell_type": "code",
   "execution_count": null,
   "metadata": {},
   "outputs": [],
   "source": [
    "train_df1"
   ]
  },
  {
   "cell_type": "code",
   "execution_count": null,
   "metadata": {},
   "outputs": [],
   "source": [
    "train_df1=train_df1.groupby(\"map_id\").agg({\"obj_num\":[\"mean\",\"std\"],\n",
    "                                             \"car_num\":[\"mean\", 'std'],\n",
    "                                             \"posx\":[\"mean\"],\n",
    "                                             \"posy\":[\"mean\"],\n",
    "                                             \"posx_min\":[\"mean\"],\n",
    "                                             \"posy_min\":[\"mean\"],\n",
    "                                             \"posx_std\":[\"mean\"],\n",
    "                                             \"posy_std\":[\"mean\"]\n",
    "                                            }).reset_index()"
   ]
  },
  {
   "cell_type": "code",
   "execution_count": null,
   "metadata": {},
   "outputs": [],
   "source": [
    "train_df1.columns=['map_id', 'obj_num_mean', 'obj_num_std', 'car_num_mean', 'car_num_std',\n",
    "                   'posx', 'posy', 'posx_min', 'posy_min', 'posx_std', 'posy_std']"
   ]
  },
  {
   "cell_type": "code",
   "execution_count": null,
   "metadata": {},
   "outputs": [],
   "source": [
    "train_df1"
   ]
  },
  {
   "cell_type": "code",
   "execution_count": null,
   "metadata": {},
   "outputs": [],
   "source": [
    "import numpy as np\n",
    "import pandas as pd\n",
    "from tqdm import tqdm\n",
    "# https://www.404bugs.com/details/1079375428891496448\n",
    "\n",
    "detect_results = pd.read_json('./detect_results.json')\n",
    "# person_list = ['person']\n",
    "# non_engine_list = ['bicycle', 'motorbike']\n",
    "# engine_list = ['car', 'bus', 'truck']\n",
    "# sign_list = ['traffic light', 'stop sign']\n",
    "car_list = ['car', 'bus', 'truck', 'car', 'bus', 'truck']\n",
    "\n",
    "temp_header = ['prob', 'pos1', 'pos2', 'pos3', 'pos4']\n",
    "temp_cal = pd.DataFrame(columns=temp_header)\n",
    "\n",
    "map_id_list=[]\n",
    "obj_num_list = []\n",
    "car_num_list = []\n",
    "pos_min_list = []\n",
    "pos_mean_list = []\n",
    "pos_std_list = []\n",
    "\n",
    "for i, frames in enumerate(detect_results['frames']):\n",
    "    map_id = i+1\n",
    "    for item in frames:\n",
    "        temp_car = np.array([_[\"box_points\"] for _ in item if _[\"name\"] in car_list])\n",
    "        if not temp_car.shape[0]:\n",
    "            temp_car = np.zeros(shape=(1, 4))\n",
    "\n",
    "        map_id_list.append(map_id)\n",
    "        obj_num_list.append(len(item))\n",
    "        car_num_list.append(temp_car.shape[0])\n",
    "        temp_x = temp_car[:, 0:2:].mean(axis=1)\n",
    "        temp_y = temp_car[:, 1:2:].mean(axis=1)\n",
    "        pos_min_list.append([temp_x.min(), temp_y.min()])\n",
    "        pos_mean_list.append([temp_x.mean(), temp_y.mean()])\n",
    "        pos_std_list.append([temp_x.std(), temp_y.std()])\n",
    "\n",
    "train_df1 = pd.DataFrame({'map_id':map_id_list,\n",
    "                          'obj_num':obj_num_list,\n",
    "                          'car_num':car_num_list,\n",
    "                          })\n",
    "\n",
    "train_df1['posx'] = np.array(pos_mean_list)[:, 0]\n",
    "train_df1['posy'] = np.array(pos_mean_list)[:, 1]\n",
    "train_df1['posx_min'] = np.array(pos_min_list)[:, 0]\n",
    "train_df1['posy_min'] = np.array(pos_min_list)[:, 1]\n",
    "train_df1['posx_std'] = np.array(pos_std_list)[:, 0]\n",
    "train_df1['posy_std'] = np.array(pos_std_list)[:, 1]\n",
    "\n",
    "train_df1=train_df1.groupby(\"map_id\").agg({\"obj_num\":[\"mean\",\"std\"],\n",
    "                                             \"car_num\":[\"mean\", 'std'],\n",
    "                                             \"posx\":[\"mean\"],\n",
    "                                             \"posy\":[\"mean\"],\n",
    "                                             \"posx_min\":[\"mean\"],\n",
    "                                             \"posy_min\":[\"mean\"],\n",
    "                                             \"posx_std\":[\"mean\"],\n",
    "                                             \"posy_std\":[\"mean\"]\n",
    "                                            }).reset_index()\n",
    "\n",
    "train_df1.columns=['map_id', 'obj_num_mean', 'obj_num_std', 'car_num_mean', 'car_num_std',\n",
    "                   'posx', 'posy', 'posx_min', 'posy_min', 'posx_std', 'posy_std']"
   ]
  },
  {
   "cell_type": "code",
   "execution_count": null,
   "metadata": {},
   "outputs": [],
   "source": []
  }
 ],
 "metadata": {
  "kernelspec": {
   "display_name": "mcm",
   "language": "python",
   "name": "python3"
  },
  "language_info": {
   "codemirror_mode": {
    "name": "ipython",
    "version": 3
   },
   "file_extension": ".py",
   "mimetype": "text/x-python",
   "name": "python",
   "nbconvert_exporter": "python",
   "pygments_lexer": "ipython3",
   "version": "3.8.0"
  },
  "orig_nbformat": 4
 },
 "nbformat": 4,
 "nbformat_minor": 2
}
